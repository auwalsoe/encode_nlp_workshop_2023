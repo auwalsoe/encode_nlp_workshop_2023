{
 "cells": [
  {
   "cell_type": "markdown",
   "metadata": {},
   "source": [
    "# A practical introduction to machine learning and natural language processing on papyrus data \n",
    "## By MSc. André Walsøe and dr. Andrea Gasparini University of Oslo\n",
    "\n",
    "\n",
    "![alt text](https://www.kdnuggets.com/wp-content/uploads/text-data-task-framework.png \"Logo Title Text 1\")\n",
    "source: https://www.kdnuggets.com/2017/12/general-approach-preprocessing-text-data.html\n"
   ]
  },
  {
   "cell_type": "markdown",
   "metadata": {},
   "source": [
    "# Session 1 Preparation and exploration of Dataset\n",
    "\n",
    "1. Install python libraries and download resources\n",
    "2. Download dataset from github repository"
   ]
  },
  {
   "cell_type": "markdown",
   "metadata": {},
   "source": [
    "### 1.1 Download dataset and install libraries\n",
    "The dataset was created by downloading and filtering data from https://github.com/papyri/idp.data/tree/master/APIS"
   ]
  },
  {
   "cell_type": "code",
   "execution_count": 97,
   "metadata": {},
   "outputs": [
    {
     "name": "stdout",
     "output_type": "stream",
     "text": [
      "  % Total    % Received % Xferd  Average Speed   Time    Time     Time  Current\n",
      "                                 Dload  Upload   Total   Spent    Left  Speed\n",
      "100 8467k  100 8467k    0     0  7112k      0  0:00:01  0:00:01 --:--:-- 7115k\n",
      "Requirement already satisfied: nltk in /home/andrehome/projects/encode_nlp_workshop_2023/venv/lib/python3.10/site-packages (3.8.1)\n",
      "Requirement already satisfied: joblib in /home/andrehome/projects/encode_nlp_workshop_2023/venv/lib/python3.10/site-packages (from nltk) (1.2.0)\n",
      "Requirement already satisfied: tqdm in /home/andrehome/projects/encode_nlp_workshop_2023/venv/lib/python3.10/site-packages (from nltk) (4.64.1)\n",
      "Requirement already satisfied: click in /home/andrehome/projects/encode_nlp_workshop_2023/venv/lib/python3.10/site-packages (from nltk) (8.1.3)\n",
      "Requirement already satisfied: regex>=2021.8.3 in /home/andrehome/projects/encode_nlp_workshop_2023/venv/lib/python3.10/site-packages (from nltk) (2022.10.31)\n",
      "Requirement already satisfied: gradio in /home/andrehome/projects/encode_nlp_workshop_2023/venv/lib/python3.10/site-packages (3.15.0)\n",
      "Requirement already satisfied: pydub in /home/andrehome/projects/encode_nlp_workshop_2023/venv/lib/python3.10/site-packages (from gradio) (0.25.1)\n",
      "Requirement already satisfied: pydantic in /home/andrehome/projects/encode_nlp_workshop_2023/venv/lib/python3.10/site-packages (from gradio) (1.10.4)\n",
      "Requirement already satisfied: altair>=4.2.0 in /home/andrehome/projects/encode_nlp_workshop_2023/venv/lib/python3.10/site-packages (from gradio) (4.2.0)\n",
      "Requirement already satisfied: requests in /home/andrehome/projects/encode_nlp_workshop_2023/venv/lib/python3.10/site-packages (from gradio) (2.28.1)\n",
      "Requirement already satisfied: httpx in /home/andrehome/projects/encode_nlp_workshop_2023/venv/lib/python3.10/site-packages (from gradio) (0.23.3)\n",
      "Requirement already satisfied: pandas in /home/andrehome/projects/encode_nlp_workshop_2023/venv/lib/python3.10/site-packages (from gradio) (1.5.2)\n",
      "Requirement already satisfied: markupsafe in /home/andrehome/projects/encode_nlp_workshop_2023/venv/lib/python3.10/site-packages (from gradio) (2.1.1)\n",
      "Requirement already satisfied: markdown-it-py[linkify,plugins] in /home/andrehome/projects/encode_nlp_workshop_2023/venv/lib/python3.10/site-packages (from gradio) (2.1.0)\n",
      "Requirement already satisfied: pycryptodome in /home/andrehome/projects/encode_nlp_workshop_2023/venv/lib/python3.10/site-packages (from gradio) (3.16.0)\n",
      "Requirement already satisfied: python-multipart in /home/andrehome/projects/encode_nlp_workshop_2023/venv/lib/python3.10/site-packages (from gradio) (0.0.5)\n",
      "Requirement already satisfied: jinja2 in /home/andrehome/projects/encode_nlp_workshop_2023/venv/lib/python3.10/site-packages (from gradio) (3.1.2)\n",
      "Requirement already satisfied: uvicorn in /home/andrehome/projects/encode_nlp_workshop_2023/venv/lib/python3.10/site-packages (from gradio) (0.20.0)\n",
      "Requirement already satisfied: numpy in /home/andrehome/projects/encode_nlp_workshop_2023/venv/lib/python3.10/site-packages (from gradio) (1.24.1)\n",
      "Requirement already satisfied: orjson in /home/andrehome/projects/encode_nlp_workshop_2023/venv/lib/python3.10/site-packages (from gradio) (3.8.4)\n",
      "Requirement already satisfied: pyyaml in /home/andrehome/projects/encode_nlp_workshop_2023/venv/lib/python3.10/site-packages (from gradio) (6.0)\n",
      "Requirement already satisfied: fsspec in /home/andrehome/projects/encode_nlp_workshop_2023/venv/lib/python3.10/site-packages (from gradio) (2022.11.0)\n",
      "Requirement already satisfied: pillow in /home/andrehome/projects/encode_nlp_workshop_2023/venv/lib/python3.10/site-packages (from gradio) (9.4.0)\n",
      "Requirement already satisfied: ffmpy in /home/andrehome/projects/encode_nlp_workshop_2023/venv/lib/python3.10/site-packages (from gradio) (0.3.0)\n",
      "Requirement already satisfied: websockets>=10.0 in /home/andrehome/projects/encode_nlp_workshop_2023/venv/lib/python3.10/site-packages (from gradio) (10.4)\n",
      "Requirement already satisfied: aiohttp in /home/andrehome/projects/encode_nlp_workshop_2023/venv/lib/python3.10/site-packages (from gradio) (3.8.3)\n",
      "Requirement already satisfied: matplotlib in /home/andrehome/projects/encode_nlp_workshop_2023/venv/lib/python3.10/site-packages (from gradio) (3.6.2)\n",
      "Requirement already satisfied: fastapi in /home/andrehome/projects/encode_nlp_workshop_2023/venv/lib/python3.10/site-packages (from gradio) (0.88.0)\n",
      "Requirement already satisfied: entrypoints in /home/andrehome/projects/encode_nlp_workshop_2023/venv/lib/python3.10/site-packages (from altair>=4.2.0->gradio) (0.4)\n",
      "Requirement already satisfied: toolz in /home/andrehome/projects/encode_nlp_workshop_2023/venv/lib/python3.10/site-packages (from altair>=4.2.0->gradio) (0.12.0)\n",
      "Requirement already satisfied: jsonschema>=3.0 in /home/andrehome/projects/encode_nlp_workshop_2023/venv/lib/python3.10/site-packages (from altair>=4.2.0->gradio) (4.17.3)\n",
      "Requirement already satisfied: pytz>=2020.1 in /home/andrehome/projects/encode_nlp_workshop_2023/venv/lib/python3.10/site-packages (from pandas->gradio) (2022.7)\n",
      "Requirement already satisfied: python-dateutil>=2.8.1 in /home/andrehome/projects/encode_nlp_workshop_2023/venv/lib/python3.10/site-packages (from pandas->gradio) (2.8.2)\n",
      "Requirement already satisfied: multidict<7.0,>=4.5 in /home/andrehome/projects/encode_nlp_workshop_2023/venv/lib/python3.10/site-packages (from aiohttp->gradio) (6.0.4)\n",
      "Requirement already satisfied: attrs>=17.3.0 in /home/andrehome/projects/encode_nlp_workshop_2023/venv/lib/python3.10/site-packages (from aiohttp->gradio) (22.2.0)\n",
      "Requirement already satisfied: yarl<2.0,>=1.0 in /home/andrehome/projects/encode_nlp_workshop_2023/venv/lib/python3.10/site-packages (from aiohttp->gradio) (1.8.2)\n",
      "Requirement already satisfied: async-timeout<5.0,>=4.0.0a3 in /home/andrehome/projects/encode_nlp_workshop_2023/venv/lib/python3.10/site-packages (from aiohttp->gradio) (4.0.2)\n",
      "Requirement already satisfied: aiosignal>=1.1.2 in /home/andrehome/projects/encode_nlp_workshop_2023/venv/lib/python3.10/site-packages (from aiohttp->gradio) (1.3.1)\n",
      "Requirement already satisfied: charset-normalizer<3.0,>=2.0 in /home/andrehome/projects/encode_nlp_workshop_2023/venv/lib/python3.10/site-packages (from aiohttp->gradio) (2.1.1)\n",
      "Requirement already satisfied: frozenlist>=1.1.1 in /home/andrehome/projects/encode_nlp_workshop_2023/venv/lib/python3.10/site-packages (from aiohttp->gradio) (1.3.3)\n",
      "Requirement already satisfied: starlette==0.22.0 in /home/andrehome/projects/encode_nlp_workshop_2023/venv/lib/python3.10/site-packages (from fastapi->gradio) (0.22.0)\n",
      "Requirement already satisfied: anyio<5,>=3.4.0 in /home/andrehome/projects/encode_nlp_workshop_2023/venv/lib/python3.10/site-packages (from starlette==0.22.0->fastapi->gradio) (3.6.2)\n",
      "Requirement already satisfied: typing-extensions>=4.2.0 in /home/andrehome/projects/encode_nlp_workshop_2023/venv/lib/python3.10/site-packages (from pydantic->gradio) (4.4.0)\n",
      "Requirement already satisfied: rfc3986[idna2008]<2,>=1.3 in /home/andrehome/projects/encode_nlp_workshop_2023/venv/lib/python3.10/site-packages (from httpx->gradio) (1.5.0)\n",
      "Requirement already satisfied: sniffio in /home/andrehome/projects/encode_nlp_workshop_2023/venv/lib/python3.10/site-packages (from httpx->gradio) (1.3.0)\n",
      "Requirement already satisfied: certifi in /home/andrehome/projects/encode_nlp_workshop_2023/venv/lib/python3.10/site-packages (from httpx->gradio) (2022.12.7)\n",
      "Requirement already satisfied: httpcore<0.17.0,>=0.15.0 in /home/andrehome/projects/encode_nlp_workshop_2023/venv/lib/python3.10/site-packages (from httpx->gradio) (0.16.3)\n",
      "Requirement already satisfied: mdurl~=0.1 in /home/andrehome/projects/encode_nlp_workshop_2023/venv/lib/python3.10/site-packages (from markdown-it-py[linkify,plugins]->gradio) (0.1.2)\n",
      "Requirement already satisfied: linkify-it-py~=1.0 in /home/andrehome/projects/encode_nlp_workshop_2023/venv/lib/python3.10/site-packages (from markdown-it-py[linkify,plugins]->gradio) (1.0.3)\n",
      "Requirement already satisfied: mdit-py-plugins in /home/andrehome/projects/encode_nlp_workshop_2023/venv/lib/python3.10/site-packages (from markdown-it-py[linkify,plugins]->gradio) (0.3.3)\n",
      "Requirement already satisfied: fonttools>=4.22.0 in /home/andrehome/projects/encode_nlp_workshop_2023/venv/lib/python3.10/site-packages (from matplotlib->gradio) (4.38.0)\n",
      "Requirement already satisfied: kiwisolver>=1.0.1 in /home/andrehome/projects/encode_nlp_workshop_2023/venv/lib/python3.10/site-packages (from matplotlib->gradio) (1.4.4)\n",
      "Requirement already satisfied: contourpy>=1.0.1 in /home/andrehome/projects/encode_nlp_workshop_2023/venv/lib/python3.10/site-packages (from matplotlib->gradio) (1.0.6)\n",
      "Requirement already satisfied: packaging>=20.0 in /home/andrehome/projects/encode_nlp_workshop_2023/venv/lib/python3.10/site-packages (from matplotlib->gradio) (22.0)\n",
      "Requirement already satisfied: cycler>=0.10 in /home/andrehome/projects/encode_nlp_workshop_2023/venv/lib/python3.10/site-packages (from matplotlib->gradio) (0.11.0)\n",
      "Requirement already satisfied: pyparsing>=2.2.1 in /home/andrehome/projects/encode_nlp_workshop_2023/venv/lib/python3.10/site-packages (from matplotlib->gradio) (3.0.9)\n",
      "Requirement already satisfied: six>=1.4.0 in /home/andrehome/projects/encode_nlp_workshop_2023/venv/lib/python3.10/site-packages (from python-multipart->gradio) (1.16.0)\n",
      "Requirement already satisfied: idna<4,>=2.5 in /home/andrehome/projects/encode_nlp_workshop_2023/venv/lib/python3.10/site-packages (from requests->gradio) (3.4)\n",
      "Requirement already satisfied: urllib3<1.27,>=1.21.1 in /home/andrehome/projects/encode_nlp_workshop_2023/venv/lib/python3.10/site-packages (from requests->gradio) (1.26.13)\n",
      "Requirement already satisfied: h11>=0.8 in /home/andrehome/projects/encode_nlp_workshop_2023/venv/lib/python3.10/site-packages (from uvicorn->gradio) (0.14.0)\n",
      "Requirement already satisfied: click>=7.0 in /home/andrehome/projects/encode_nlp_workshop_2023/venv/lib/python3.10/site-packages (from uvicorn->gradio) (8.1.3)\n",
      "Requirement already satisfied: pyrsistent!=0.17.0,!=0.17.1,!=0.17.2,>=0.14.0 in /home/andrehome/projects/encode_nlp_workshop_2023/venv/lib/python3.10/site-packages (from jsonschema>=3.0->altair>=4.2.0->gradio) (0.19.3)\n",
      "Requirement already satisfied: uc-micro-py in /home/andrehome/projects/encode_nlp_workshop_2023/venv/lib/python3.10/site-packages (from linkify-it-py~=1.0->markdown-it-py[linkify,plugins]->gradio) (1.0.1)\n"
     ]
    },
    {
     "name": "stderr",
     "output_type": "stream",
     "text": [
      "[nltk_data] Downloading package punkt to /home/andrehome/nltk_data...\n",
      "[nltk_data]   Package punkt is already up-to-date!\n",
      "[nltk_data] Downloading package stopwords to\n",
      "[nltk_data]     /home/andrehome/nltk_data...\n",
      "[nltk_data]   Package stopwords is already up-to-date!\n"
     ]
    },
    {
     "data": {
      "text/plain": [
       "True"
      ]
     },
     "execution_count": 97,
     "metadata": {},
     "output_type": "execute_result"
    }
   ],
   "source": [
    "!curl -L -o data.tsv https://raw.githubusercontent.com/auwalsoe/encode_nlp_workshop_2023/main/data/papyrus_data.tsv\n",
    "!pip install nltk\n",
    "!pip install gradio\n",
    "import nltk\n",
    "nltk.download('punkt')\n",
    "nltk.download('stopwords')"
   ]
  },
  {
   "cell_type": "markdown",
   "metadata": {},
   "source": [
    "# Session 2: Data exploration and introduction to NLP techniques"
   ]
  },
  {
   "cell_type": "markdown",
   "metadata": {},
   "source": [
    "## 2.1 Data exploration and introduction to NLP techniques\n",
    "\n",
    "1. Basic data exploration with pandas\n",
    "2. Application of filtering techniques based on data exploration findings\n",
    "3. Hands-on task: Data exploration and filtering "
   ]
  },
  {
   "cell_type": "markdown",
   "metadata": {},
   "source": [
    "### 2.1.2 Basic Data exploration and filtering with pandas\n",
    "To load the dataset into our google colab we use a library called pandas (https://pandas.pydata.org) which is a open source data analysis and data manipulation tool that is widely used for every tasks involving data."
   ]
  },
  {
   "cell_type": "code",
   "execution_count": 98,
   "metadata": {},
   "outputs": [
    {
     "data": {
      "text/html": [
       "<div>\n",
       "<style scoped>\n",
       "    .dataframe tbody tr th:only-of-type {\n",
       "        vertical-align: middle;\n",
       "    }\n",
       "\n",
       "    .dataframe tbody tr th {\n",
       "        vertical-align: top;\n",
       "    }\n",
       "\n",
       "    .dataframe thead th {\n",
       "        text-align: right;\n",
       "    }\n",
       "</style>\n",
       "<table border=\"1\" class=\"dataframe\">\n",
       "  <thead>\n",
       "    <tr style=\"text-align: right;\">\n",
       "      <th></th>\n",
       "      <th>Unnamed: 0</th>\n",
       "      <th>translation</th>\n",
       "      <th>category</th>\n",
       "      <th>author</th>\n",
       "      <th>summary</th>\n",
       "      <th>keywords</th>\n",
       "      <th>originDate</th>\n",
       "      <th>provenance</th>\n",
       "      <th>num_words_in_translation</th>\n",
       "    </tr>\n",
       "  </thead>\n",
       "  <tbody>\n",
       "    <tr>\n",
       "      <th>0</th>\n",
       "      <td>0</td>\n",
       "      <td>kollesis obscures much of the text. 6 lines, o...</td>\n",
       "      <td>documentary text</td>\n",
       "      <td>unknown</td>\n",
       "      <td>unknown</td>\n",
       "      <td>papyri</td>\n",
       "      <td>Between 300 and 130 B.C.</td>\n",
       "      <td>unknown</td>\n",
       "      <td>24</td>\n",
       "    </tr>\n",
       "    <tr>\n",
       "      <th>1</th>\n",
       "      <td>3</td>\n",
       "      <td>21 lines, on recto along the fibers; 2 lines (...</td>\n",
       "      <td>letter : conclusion : to maron</td>\n",
       "      <td>unknown</td>\n",
       "      <td>conclusion of a letter to maron about various ...</td>\n",
       "      <td>papyri</td>\n",
       "      <td>Late 2nd or 3rd century A.D.</td>\n",
       "      <td>unknown</td>\n",
       "      <td>24</td>\n",
       "    </tr>\n",
       "    <tr>\n",
       "      <th>2</th>\n",
       "      <td>1</td>\n",
       "      <td>3+ cols. (54+ lines) on recto along the fibers...</td>\n",
       "      <td>account : fragment</td>\n",
       "      <td>unknown</td>\n",
       "      <td>unknown</td>\n",
       "      <td>papyri</td>\n",
       "      <td>Late 2nd century B.C.</td>\n",
       "      <td>unknown</td>\n",
       "      <td>12</td>\n",
       "    </tr>\n",
       "    <tr>\n",
       "      <th>3</th>\n",
       "      <td>3</td>\n",
       "      <td>10 lines, on verso across the fibers. on recto...</td>\n",
       "      <td>tax receipt</td>\n",
       "      <td>diodoros</td>\n",
       "      <td>diodoros and partners, farmers of the crown ta...</td>\n",
       "      <td>papyri</td>\n",
       "      <td>181/182 or 213/214 A.D.</td>\n",
       "      <td>unknown</td>\n",
       "      <td>67</td>\n",
       "    </tr>\n",
       "    <tr>\n",
       "      <th>4</th>\n",
       "      <td>3</td>\n",
       "      <td>49 lines, on verso across the fibers. recto em...</td>\n",
       "      <td>petition from harmiysis and the crown tenants ...</td>\n",
       "      <td>harmiysis</td>\n",
       "      <td>harmiysis and the crown tenants complain to kr...</td>\n",
       "      <td>papyri</td>\n",
       "      <td>Between 105 and 90 B.C.</td>\n",
       "      <td>unknown</td>\n",
       "      <td>240</td>\n",
       "    </tr>\n",
       "  </tbody>\n",
       "</table>\n",
       "</div>"
      ],
      "text/plain": [
       "   Unnamed: 0                                        translation  \\\n",
       "0           0  kollesis obscures much of the text. 6 lines, o...   \n",
       "1           3  21 lines, on recto along the fibers; 2 lines (...   \n",
       "2           1  3+ cols. (54+ lines) on recto along the fibers...   \n",
       "3           3  10 lines, on verso across the fibers. on recto...   \n",
       "4           3  49 lines, on verso across the fibers. recto em...   \n",
       "\n",
       "                                            category      author  \\\n",
       "0                                  documentary text      unknown   \n",
       "1                    letter : conclusion : to maron      unknown   \n",
       "2                                account : fragment      unknown   \n",
       "3                                       tax receipt    diodoros    \n",
       "4  petition from harmiysis and the crown tenants ...  harmiysis    \n",
       "\n",
       "                                             summary keywords  \\\n",
       "0                                            unknown   papyri   \n",
       "1  conclusion of a letter to maron about various ...   papyri   \n",
       "2                                            unknown   papyri   \n",
       "3  diodoros and partners, farmers of the crown ta...   papyri   \n",
       "4  harmiysis and the crown tenants complain to kr...   papyri   \n",
       "\n",
       "                      originDate provenance  num_words_in_translation  \n",
       "0      Between 300 and 130 B.C.     unknown                        24  \n",
       "1  Late 2nd or 3rd century A.D.     unknown                        24  \n",
       "2         Late 2nd century B.C.     unknown                        12  \n",
       "3       181/182 or 213/214 A.D.     unknown                        67  \n",
       "4       Between 105 and 90 B.C.     unknown                       240  "
      ]
     },
     "execution_count": 98,
     "metadata": {},
     "output_type": "execute_result"
    }
   ],
   "source": [
    "#Importing the pandas Library\n",
    "import pandas as pd\n",
    "\n",
    "# Loading the downloaded data into a pandas dataframe\n",
    "data = pd.read_csv('/content/data.tsv', delimiter = '\\t')\n",
    "#data = pd.read_csv('data.tsv', delimiter = '\\t')\n",
    "data.head()"
   ]
  },
  {
   "cell_type": "code",
   "execution_count": 99,
   "metadata": {},
   "outputs": [
    {
     "name": "stdout",
     "output_type": "stream",
     "text": [
      "Unnamed: 0\n",
      "translation\n",
      "category\n",
      "author\n",
      "summary\n",
      "keywords\n",
      "originDate\n",
      "provenance\n",
      "num_words_in_translation\n"
     ]
    }
   ],
   "source": [
    "## Printing column names\n",
    "for col in data.columns:\n",
    "    print(col)"
   ]
  },
  {
   "cell_type": "code",
   "execution_count": 100,
   "metadata": {},
   "outputs": [
    {
     "data": {
      "image/png": "[encoded data removed]",
      "text/plain": [
       "<Figure size 640x480 with 1 Axes>"
      ]
     },
     "metadata": {},
     "output_type": "display_data"
    }
   ],
   "source": [
    "## Get frequencies of columns\n",
    "def plot_column_distribution(dataset, column_name, top_n):\n",
    "    \"\"\"Creates a bar plot of the frequency of different columns in the dataset.\n",
    "    Input variables:\n",
    "    dataset: Pandas dataframe\n",
    "    Column name: string\n",
    "    top_n: int\"\"\"\n",
    "    \n",
    "    dataset[column_name].value_counts()[:top_n].plot(kind=\"bar\")\n",
    "#data.category.value_counts()[:10].plot(kind='bar')\n",
    "\n",
    "plot_column_distribution(data, \"provenance\", 10)"
   ]
  },
  {
   "cell_type": "markdown",
   "metadata": {},
   "source": [
    "### 2.2.2 Application of filtering techniques based on data exploration findings"
   ]
  },
  {
   "cell_type": "code",
   "execution_count": 101,
   "metadata": {},
   "outputs": [],
   "source": [
    "# Removing data entries with unknown provenance from the dataset\n",
    "data = data[data.provenance != 'unknown']"
   ]
  },
  {
   "cell_type": "code",
   "execution_count": 102,
   "metadata": {},
   "outputs": [],
   "source": [
    "# Assigning all provenances with frequency less than 100 to \"other\"\n",
    "threshold = 100\n",
    "freq = data['provenance'].value_counts()\n",
    "mappings = freq.index.to_series().mask(freq < threshold, 'Other').to_dict()\n",
    "\n",
    "data['provenance'] = data['provenance'].map(mappings)\n",
    "\n",
    "\n",
    "translations = data['translation'].values\n",
    "provenance = data['provenance'].values\n"
   ]
  },
  {
   "cell_type": "code",
   "execution_count": 103,
   "metadata": {},
   "outputs": [
    {
     "data": {
      "image/png": "[encoded data removed]",
      "text/plain": [
       "<Figure size 640x480 with 1 Axes>"
      ]
     },
     "metadata": {},
     "output_type": "display_data"
    }
   ],
   "source": [
    "plot_column_distribution(data, \"provenance\", 10)\n"
   ]
  },
  {
   "cell_type": "markdown",
   "metadata": {},
   "source": [
    "### 2.1.3 Hands-on excercise: Data exploration and filtering\n",
    "Explore the different columns of the dataset, for example with the plot_column_distribution function and propose other filters that should be applied to improve the dataset. \n"
   ]
  },
  {
   "cell_type": "code",
   "execution_count": 104,
   "metadata": {},
   "outputs": [],
   "source": [
    "### Write your solution or ideas below this line:\n"
   ]
  },
  {
   "cell_type": "markdown",
   "metadata": {},
   "source": [
    "# Session 2.2: Introduction to nlp techniques\n",
    "1. Lower text \n",
    "2. Tokenization\n",
    "3. Stopword removal\n",
    "4. Vectorization\n",
    "6. Show how these techniques can be applied on papyrus data using NLTK\n",
    "7. Hands-on exercise: Apply NLP techniques to papyrus dataset\n",
    "\n",
    "### Example corpus\n",
    "A corpus is a structured set of texts which can be used for statistical analysis or similar. In this exercise we will use a small example corpus consisting of parts of 3 papyri translations that were chosen randomly. In this section I will show how we can apply the pre-processing methods shown above on a corpus. We will re-use the functions written above. "
   ]
  },
  {
   "cell_type": "code",
   "execution_count": 105,
   "metadata": {},
   "outputs": [
    {
     "data": {
      "text/plain": [
       "['Agathon to Patron, greeting. Apollonios has applied to me about the village of Takona, that you should appoint him as guard. you would therefore do well to hand (the post?) over to him. good-bye',\n",
       " 'Address Asklepiades to Marres, greeting. Menches having been appointed village scribe of Kerkeosiris on the understanding that he shall cultivate at his own expense ten arouras of the land in the neighborhood of the village which has been reported as unproductive at a rent of fifty artabas',\n",
       " 'I therefore present to you this complaint in order that the accused may be summoned and compelled to refund me the damage; and if he refuses i beg you to forward a copy of the petition to the proper officials, so that I may have it placed on record and the king may incur no loss. Farewell.']"
      ]
     },
     "execution_count": 105,
     "metadata": {},
     "output_type": "execute_result"
    }
   ],
   "source": [
    "example_corpus = [\"Agathon to Patron, greeting. Apollonios has applied to me about the village of Takona, that you should appoint him as guard. you would therefore do well to hand (the post?) over to him. good-bye\", \n",
    "                  \"Address Asklepiades to Marres, greeting. Menches having been appointed village scribe of Kerkeosiris on the understanding that he shall cultivate at his own expense ten arouras of the land in the neighborhood of the village which has been reported as unproductive at a rent of fifty artabas\", \n",
    "                  \"I therefore present to you this complaint in order that the accused may be summoned and compelled to refund me the damage; and if he refuses i beg you to forward a copy of the petition to the proper officials, so that I may have it placed on record and the king may incur no loss. Farewell.\"]\n",
    "example_corpus"
   ]
  },
  {
   "cell_type": "markdown",
   "metadata": {},
   "source": [
    "### 2.2.1 Lower text\n",
    "Here it is shown how to lower the text. In a small dataset it is an important step, as the word will be interpreted as 2 different words by the algorithm if the word is written with capital letter or not."
   ]
  },
  {
   "cell_type": "code",
   "execution_count": 106,
   "metadata": {},
   "outputs": [
    {
     "data": {
      "text/plain": [
       "['agathon to patron, greeting. apollonios has applied to me about the village of takona, that you should appoint him as guard. you would therefore do well to hand (the post?) over to him. good-bye',\n",
       " 'address asklepiades to marres, greeting. menches having been appointed village scribe of kerkeosiris on the understanding that he shall cultivate at his own expense ten arouras of the land in the neighborhood of the village which has been reported as unproductive at a rent of fifty artabas',\n",
       " 'i therefore present to you this complaint in order that the accused may be summoned and compelled to refund me the damage; and if he refuses i beg you to forward a copy of the petition to the proper officials, so that i may have it placed on record and the king may incur no loss. farewell.']"
      ]
     },
     "execution_count": 106,
     "metadata": {},
     "output_type": "execute_result"
    }
   ],
   "source": [
    "example_corpus = [x.lower() for x in example_corpus]\n",
    "example_corpus"
   ]
  },
  {
   "cell_type": "markdown",
   "metadata": {},
   "source": [
    "### 2.2.2 Tokenization\n",
    "Tokenization is a way of splitting a text into smaller units, called tokens, in this example we will split it into words, but one can also split into sentences, letters or other types of units. The reason for doing this is that most NLP models and algorithms work on a token level. The tokens are also used to create the vocabulary, the set of unique tokens in the corpus.\n",
    "\n",
    "In our example we use the word_tokenize method from the Natural language toolkit library (NLTK): https://www.nltk.org/api/nltk.tokenize.html"
   ]
  },
  {
   "cell_type": "code",
   "execution_count": 107,
   "metadata": {},
   "outputs": [
    {
     "data": {
      "text/plain": [
       "[['agathon',\n",
       "  'to',\n",
       "  'patron',\n",
       "  ',',\n",
       "  'greeting',\n",
       "  '.',\n",
       "  'apollonios',\n",
       "  'has',\n",
       "  'applied',\n",
       "  'to',\n",
       "  'me',\n",
       "  'about',\n",
       "  'the',\n",
       "  'village',\n",
       "  'of',\n",
       "  'takona',\n",
       "  ',',\n",
       "  'that',\n",
       "  'you',\n",
       "  'should',\n",
       "  'appoint',\n",
       "  'him',\n",
       "  'as',\n",
       "  'guard',\n",
       "  '.',\n",
       "  'you',\n",
       "  'would',\n",
       "  'therefore',\n",
       "  'do',\n",
       "  'well',\n",
       "  'to',\n",
       "  'hand',\n",
       "  '(',\n",
       "  'the',\n",
       "  'post',\n",
       "  '?',\n",
       "  ')',\n",
       "  'over',\n",
       "  'to',\n",
       "  'him',\n",
       "  '.',\n",
       "  'good-bye'],\n",
       " ['address',\n",
       "  'asklepiades',\n",
       "  'to',\n",
       "  'marres',\n",
       "  ',',\n",
       "  'greeting',\n",
       "  '.',\n",
       "  'menches',\n",
       "  'having',\n",
       "  'been',\n",
       "  'appointed',\n",
       "  'village',\n",
       "  'scribe',\n",
       "  'of',\n",
       "  'kerkeosiris',\n",
       "  'on',\n",
       "  'the',\n",
       "  'understanding',\n",
       "  'that',\n",
       "  'he',\n",
       "  'shall',\n",
       "  'cultivate',\n",
       "  'at',\n",
       "  'his',\n",
       "  'own',\n",
       "  'expense',\n",
       "  'ten',\n",
       "  'arouras',\n",
       "  'of',\n",
       "  'the',\n",
       "  'land',\n",
       "  'in',\n",
       "  'the',\n",
       "  'neighborhood',\n",
       "  'of',\n",
       "  'the',\n",
       "  'village',\n",
       "  'which',\n",
       "  'has',\n",
       "  'been',\n",
       "  'reported',\n",
       "  'as',\n",
       "  'unproductive',\n",
       "  'at',\n",
       "  'a',\n",
       "  'rent',\n",
       "  'of',\n",
       "  'fifty',\n",
       "  'artabas'],\n",
       " ['i',\n",
       "  'therefore',\n",
       "  'present',\n",
       "  'to',\n",
       "  'you',\n",
       "  'this',\n",
       "  'complaint',\n",
       "  'in',\n",
       "  'order',\n",
       "  'that',\n",
       "  'the',\n",
       "  'accused',\n",
       "  'may',\n",
       "  'be',\n",
       "  'summoned',\n",
       "  'and',\n",
       "  'compelled',\n",
       "  'to',\n",
       "  'refund',\n",
       "  'me',\n",
       "  'the',\n",
       "  'damage',\n",
       "  ';',\n",
       "  'and',\n",
       "  'if',\n",
       "  'he',\n",
       "  'refuses',\n",
       "  'i',\n",
       "  'beg',\n",
       "  'you',\n",
       "  'to',\n",
       "  'forward',\n",
       "  'a',\n",
       "  'copy',\n",
       "  'of',\n",
       "  'the',\n",
       "  'petition',\n",
       "  'to',\n",
       "  'the',\n",
       "  'proper',\n",
       "  'officials',\n",
       "  ',',\n",
       "  'so',\n",
       "  'that',\n",
       "  'i',\n",
       "  'may',\n",
       "  'have',\n",
       "  'it',\n",
       "  'placed',\n",
       "  'on',\n",
       "  'record',\n",
       "  'and',\n",
       "  'the',\n",
       "  'king',\n",
       "  'may',\n",
       "  'incur',\n",
       "  'no',\n",
       "  'loss',\n",
       "  '.',\n",
       "  'farewell',\n",
       "  '.']]"
      ]
     },
     "execution_count": 107,
     "metadata": {},
     "output_type": "execute_result"
    }
   ],
   "source": [
    "from nltk.tokenize import word_tokenize\n",
    "tokenized_example_corpus = [word_tokenize(x) for x in example_corpus]\n",
    "tokenized_example_corpus"
   ]
  },
  {
   "cell_type": "markdown",
   "metadata": {},
   "source": [
    "### 2.2.3 Stopword removal\n",
    "After tokenizing the corpus the next step is to remove the stopwords. Stopwords are words that are words that are frequently used in a language. In english it can be words like:\n",
    "- i\n",
    "- me\n",
    "- my\n",
    "- myself\n",
    "- we\n",
    "- our\n",
    "- ours\n",
    "- ourselves\n",
    "- you\n",
    "- your\n",
    "- yours\n",
    "- yourself\n",
    "- yourselves\n",
    "- he\n",
    "\n",
    "\n",
    "Full list can be seen here: https://gist.github.com/sebleier/554280\n",
    "\n",
    "The reason why we remove the stopwords is that we assume that these words are not as important as less frequently used words when trying to separate one text from another. This assumption is not true for all applications, and will need to be tested. In applications like sentiment analysis, stopword removal might be a bad idea.\n",
    "Another advantage of removing stopwords is that it reduces the vocabulary, which results in a data representation with fewer dimension, which will be less computationally expensive."
   ]
  },
  {
   "cell_type": "code",
   "execution_count": 108,
   "metadata": {},
   "outputs": [
    {
     "data": {
      "text/plain": [
       "[['agathon',\n",
       "  'patron',\n",
       "  ',',\n",
       "  'greeting',\n",
       "  '.',\n",
       "  'apollonios',\n",
       "  'applied',\n",
       "  'village',\n",
       "  'takona',\n",
       "  ',',\n",
       "  'appoint',\n",
       "  'guard',\n",
       "  '.',\n",
       "  'would',\n",
       "  'therefore',\n",
       "  'well',\n",
       "  'hand',\n",
       "  '(',\n",
       "  'post',\n",
       "  '?',\n",
       "  ')',\n",
       "  '.',\n",
       "  'good-bye'],\n",
       " ['address',\n",
       "  'asklepiades',\n",
       "  'marres',\n",
       "  ',',\n",
       "  'greeting',\n",
       "  '.',\n",
       "  'menches',\n",
       "  'appointed',\n",
       "  'village',\n",
       "  'scribe',\n",
       "  'kerkeosiris',\n",
       "  'understanding',\n",
       "  'shall',\n",
       "  'cultivate',\n",
       "  'expense',\n",
       "  'ten',\n",
       "  'arouras',\n",
       "  'land',\n",
       "  'neighborhood',\n",
       "  'village',\n",
       "  'reported',\n",
       "  'unproductive',\n",
       "  'rent',\n",
       "  'fifty',\n",
       "  'artabas'],\n",
       " ['therefore',\n",
       "  'present',\n",
       "  'complaint',\n",
       "  'order',\n",
       "  'accused',\n",
       "  'may',\n",
       "  'summoned',\n",
       "  'compelled',\n",
       "  'refund',\n",
       "  'damage',\n",
       "  ';',\n",
       "  'refuses',\n",
       "  'beg',\n",
       "  'forward',\n",
       "  'copy',\n",
       "  'petition',\n",
       "  'proper',\n",
       "  'officials',\n",
       "  ',',\n",
       "  'may',\n",
       "  'placed',\n",
       "  'record',\n",
       "  'king',\n",
       "  'may',\n",
       "  'incur',\n",
       "  'loss',\n",
       "  '.',\n",
       "  'farewell',\n",
       "  '.']]"
      ]
     },
     "execution_count": 108,
     "metadata": {},
     "output_type": "execute_result"
    }
   ],
   "source": [
    "from nltk.corpus import stopwords\n",
    "def remove_stopwords(tokenized_text, stopwords):\n",
    "    clean_tokenized_text = [x for x in tokenized_text if x not in stopwords.words('english')]\n",
    "    return clean_tokenized_text\n",
    "\n",
    "tokenized_example_corpus_without_stopwords = [remove_stopwords(x, stopwords) for x in tokenized_example_corpus]\n",
    "tokenized_example_corpus_without_stopwords"
   ]
  },
  {
   "cell_type": "markdown",
   "metadata": {},
   "source": [
    "### 2.2.4 Vectorization\n",
    "Vectorization describes the way to convert data from raw text into vectors of numbers that can be input to machine learning models. This is a key part of feature extraction. There are several ways of converting the data, but in this workshop we will cover only 2:\n",
    "- Count\n",
    "- Tfidf"
   ]
  },
  {
   "cell_type": "markdown",
   "metadata": {},
   "source": [
    "#### Count Vectorization"
   ]
  },
  {
   "cell_type": "code",
   "execution_count": 109,
   "metadata": {},
   "outputs": [
    {
     "name": "stdout",
     "output_type": "stream",
     "text": [
      "['accused' 'address' 'agathon' 'apollonios' 'applied' 'appoint'\n",
      " 'appointed' 'arouras' 'artabas' 'asklepiades' 'beg' 'bye' 'compelled'\n",
      " 'complaint' 'copy' 'cultivate' 'damage' 'expense' 'farewell' 'forward'\n",
      " 'good' 'greeting' 'guard' 'hand' 'having' 'incur' 'kerkeosiris' 'king'\n",
      " 'land' 'loss' 'marres' 'menches' 'neighborhood' 'officials' 'order'\n",
      " 'patron' 'petition' 'placed' 'post' 'present' 'proper' 'record' 'refund'\n",
      " 'refuses' 'rent' 'reported' 'scribe' 'shall' 'summoned' 'takona'\n",
      " 'understanding' 'unproductive' 'village']\n",
      "[[0 0 1 1 1 1 0 0 0 0 0 1 0 0 0 0 0 0 0 0 1 1 1 1 0 0 0 0 0 0 0 0 0 0 0 1\n",
      "  0 0 1 0 0 0 0 0 0 0 0 0 0 1 0 0 1]\n",
      " [0 1 0 0 0 0 1 1 1 1 0 0 0 0 0 1 0 1 0 0 0 1 0 0 1 0 1 0 1 0 1 1 1 0 0 0\n",
      "  0 0 0 0 0 0 0 0 1 1 1 1 0 0 1 1 2]\n",
      " [1 0 0 0 0 0 0 0 0 0 1 0 1 1 1 0 1 0 1 1 0 0 0 0 0 1 0 1 0 1 0 0 0 1 1 0\n",
      "  1 1 0 1 1 1 1 1 0 0 0 0 1 0 0 0 0]]\n"
     ]
    }
   ],
   "source": [
    "from sklearn.feature_extraction.text import CountVectorizer\n",
    "\n",
    "CountVect = CountVectorizer(stop_words='english').fit(example_corpus)\n",
    "\n",
    "example_corpus_count_vectorized = CountVect.transform(example_corpus)\n",
    "print(CountVect.get_feature_names_out())\n",
    "print(example_corpus_count_vectorized.toarray())\n"
   ]
  },
  {
   "cell_type": "markdown",
   "metadata": {},
   "source": [
    "#### Tf-idf vectorization\n",
    "Tf-idf stands for term frequency-inverse document frequency. It is a numerical statistic that is intended to reflect how important a word is to a document in a collection or corpus. It is often used as a weighting factor in information retrieval and text mining. The tf-idf value increases proportionally to the number of times a word appears in the document and is offset by the number of documents in the corpus that contain the word, which helps to adjust for the fact that some words appear more frequently in general.\n",
    "\n",
    "How it is calculated:\n",
    "\n",
    "![alt text](https://mungingdata.files.wordpress.com/2017/11/equation.png \"Logo Title Text 1\")"
   ]
  },
  {
   "cell_type": "code",
   "execution_count": 110,
   "metadata": {},
   "outputs": [
    {
     "name": "stdout",
     "output_type": "stream",
     "text": [
      "['accused' 'address' 'agathon' 'apollonios' 'applied' 'appoint'\n",
      " 'appointed' 'arouras' 'artabas' 'asklepiades' 'beg' 'bye' 'compelled'\n",
      " 'complaint' 'copy' 'cultivate' 'damage' 'expense' 'farewell' 'forward'\n",
      " 'good' 'greeting' 'guard' 'hand' 'having' 'incur' 'kerkeosiris' 'king'\n",
      " 'land' 'loss' 'marres' 'menches' 'neighborhood' 'officials' 'order'\n",
      " 'patron' 'petition' 'placed' 'post' 'present' 'proper' 'record' 'refund'\n",
      " 'refuses' 'rent' 'reported' 'scribe' 'shall' 'summoned' 'takona'\n",
      " 'understanding' 'unproductive' 'village']\n",
      "[[0.         0.         0.28680742 0.28680742 0.28680742 0.28680742\n",
      "  0.         0.         0.         0.         0.         0.28680742\n",
      "  0.         0.         0.         0.         0.         0.\n",
      "  0.         0.         0.28680742 0.21812444 0.28680742 0.28680742\n",
      "  0.         0.         0.         0.         0.         0.\n",
      "  0.         0.         0.         0.         0.         0.28680742\n",
      "  0.         0.         0.28680742 0.         0.         0.\n",
      "  0.         0.         0.         0.         0.         0.\n",
      "  0.         0.28680742 0.         0.         0.21812444]\n",
      " [0.         0.21372598 0.         0.         0.         0.\n",
      "  0.21372598 0.21372598 0.21372598 0.21372598 0.         0.\n",
      "  0.         0.         0.         0.21372598 0.         0.21372598\n",
      "  0.         0.         0.         0.16254411 0.         0.\n",
      "  0.21372598 0.         0.21372598 0.         0.21372598 0.\n",
      "  0.21372598 0.21372598 0.21372598 0.         0.         0.\n",
      "  0.         0.         0.         0.         0.         0.\n",
      "  0.         0.         0.21372598 0.21372598 0.21372598 0.21372598\n",
      "  0.         0.         0.21372598 0.21372598 0.32508823]\n",
      " [0.21821789 0.         0.         0.         0.         0.\n",
      "  0.         0.         0.         0.         0.21821789 0.\n",
      "  0.21821789 0.21821789 0.21821789 0.         0.21821789 0.\n",
      "  0.21821789 0.21821789 0.         0.         0.         0.\n",
      "  0.         0.21821789 0.         0.21821789 0.         0.21821789\n",
      "  0.         0.         0.         0.21821789 0.21821789 0.\n",
      "  0.21821789 0.21821789 0.         0.21821789 0.21821789 0.21821789\n",
      "  0.21821789 0.21821789 0.         0.         0.         0.\n",
      "  0.21821789 0.         0.         0.         0.        ]]\n"
     ]
    }
   ],
   "source": [
    "from sklearn.feature_extraction.text import TfidfVectorizer\n",
    "\n",
    "TfidfVect = TfidfVectorizer(stop_words='english').fit(example_corpus)\n",
    "\n",
    "example_corpus_tfidf_vectorized = TfidfVect.transform(example_corpus)\n",
    "print(TfidfVect.get_feature_names_out())\n",
    "print(example_corpus_tfidf_vectorized.toarray())"
   ]
  },
  {
   "cell_type": "markdown",
   "metadata": {},
   "source": [
    "### 2.2.5 Hands-on exercise: Apply NLP techniques to papyrus dataset"
   ]
  },
  {
   "cell_type": "markdown",
   "metadata": {},
   "source": [
    "## Session 3: Building a text classification model\n",
    "1. Building a text classification model\n",
    "    1. Choose what to predict and which variables to use\n",
    "    2. Split data into training and test\n",
    "    3. Transform/vectorize data\n",
    "    4. Train a logistic regression model\n",
    "    5. Test and evaluate metrics\n",
    "    6. Deploy model with Gradio\n",
    "4. Hands-on exercise: Build and train your own classification model (deploy it with Gradio if time allows)\n",
    "5. Wrap-up"
   ]
  },
  {
   "cell_type": "markdown",
   "metadata": {},
   "source": [
    "### 3.1 Building a text classification model\n"
   ]
  },
  {
   "cell_type": "markdown",
   "metadata": {},
   "source": [
    "#### 3.1.1 Choose what to classify and data to train the model with\n",
    "As we saw in 2.1.2 we have several different types of data columns:\n",
    "- translation\n",
    "- category\n",
    "- author\n",
    "- summary\n",
    "- keywords\n",
    "- originDate\n",
    "- provenance\n",
    "\n",
    "Which means that there are many possible data inputs we can use in order to build a model.\n",
    "In a classification model we need input variables x and a label y that we want to predict.\n",
    "\n",
    "In this example (since we are doing NLP), I will use translations as the input data. With the translations we could classify author, category, provenance or originData. Here I will show how to build a model that tries to classify a papyrus provenance based on it's translation. \n",
    "\n",
    "In the hands-on session you can try to change what to classify and see how it works :)"
   ]
  },
  {
   "cell_type": "markdown",
   "metadata": {},
   "source": [
    "#### 3.1.2 Split data into training and test"
   ]
  },
  {
   "cell_type": "code",
   "execution_count": 111,
   "metadata": {},
   "outputs": [],
   "source": [
    "from nltk.corpus import stopwords\n",
    "from nltk.tokenize import word_tokenize\n",
    "from sklearn.model_selection import train_test_split\n",
    "\n",
    "\n",
    "X_train, X_test, y_train, y_test = train_test_split(translations, provenance, test_size=0.2, random_state=42)"
   ]
  },
  {
   "cell_type": "markdown",
   "metadata": {},
   "source": [
    "#### 3.1.3 Transform/vectorize data"
   ]
  },
  {
   "cell_type": "code",
   "execution_count": 112,
   "metadata": {},
   "outputs": [],
   "source": [
    "from sklearn.feature_extraction.text import TfidfVectorizer\n",
    "tfidf_vect = TfidfVectorizer(lowercase= True, analyzer = \"word\", stop_words=\"english\")\n",
    "\n",
    "X_train= tfidf_vect.fit_transform(X_train)\n",
    "X_test = tfidf_vect.transform(X_test)"
   ]
  },
  {
   "cell_type": "markdown",
   "metadata": {},
   "source": [
    "#### 3.1.4 Train a logistic regression model"
   ]
  },
  {
   "cell_type": "code",
   "execution_count": 113,
   "metadata": {},
   "outputs": [
    {
     "data": {
      "text/html": [
       "<style>#sk-container-id-2 {color: black;background-color: white;}#sk-container-id-2 pre{padding: 0;}#sk-container-id-2 div.sk-toggleable {background-color: white;}#sk-container-id-2 label.sk-toggleable__label {cursor: pointer;display: block;width: 100%;margin-bottom: 0;padding: 0.3em;box-sizing: border-box;text-align: center;}#sk-container-id-2 label.sk-toggleable__label-arrow:before {content: \"▸\";float: left;margin-right: 0.25em;color: #696969;}#sk-container-id-2 label.sk-toggleable__label-arrow:hover:before {color: black;}#sk-container-id-2 div.sk-estimator:hover label.sk-toggleable__label-arrow:before {color: black;}#sk-container-id-2 div.sk-toggleable__content {max-height: 0;max-width: 0;overflow: hidden;text-align: left;background-color: #f0f8ff;}#sk-container-id-2 div.sk-toggleable__content pre {margin: 0.2em;color: black;border-radius: 0.25em;background-color: #f0f8ff;}#sk-container-id-2 input.sk-toggleable__control:checked~div.sk-toggleable__content {max-height: 200px;max-width: 100%;overflow: auto;}#sk-container-id-2 input.sk-toggleable__control:checked~label.sk-toggleable__label-arrow:before {content: \"▾\";}#sk-container-id-2 div.sk-estimator input.sk-toggleable__control:checked~label.sk-toggleable__label {background-color: #d4ebff;}#sk-container-id-2 div.sk-label input.sk-toggleable__control:checked~label.sk-toggleable__label {background-color: #d4ebff;}#sk-container-id-2 input.sk-hidden--visually {border: 0;clip: rect(1px 1px 1px 1px);clip: rect(1px, 1px, 1px, 1px);height: 1px;margin: -1px;overflow: hidden;padding: 0;position: absolute;width: 1px;}#sk-container-id-2 div.sk-estimator {font-family: monospace;background-color: #f0f8ff;border: 1px dotted black;border-radius: 0.25em;box-sizing: border-box;margin-bottom: 0.5em;}#sk-container-id-2 div.sk-estimator:hover {background-color: #d4ebff;}#sk-container-id-2 div.sk-parallel-item::after {content: \"\";width: 100%;border-bottom: 1px solid gray;flex-grow: 1;}#sk-container-id-2 div.sk-label:hover label.sk-toggleable__label {background-color: #d4ebff;}#sk-container-id-2 div.sk-serial::before {content: \"\";position: absolute;border-left: 1px solid gray;box-sizing: border-box;top: 0;bottom: 0;left: 50%;z-index: 0;}#sk-container-id-2 div.sk-serial {display: flex;flex-direction: column;align-items: center;background-color: white;padding-right: 0.2em;padding-left: 0.2em;position: relative;}#sk-container-id-2 div.sk-item {position: relative;z-index: 1;}#sk-container-id-2 div.sk-parallel {display: flex;align-items: stretch;justify-content: center;background-color: white;position: relative;}#sk-container-id-2 div.sk-item::before, #sk-container-id-2 div.sk-parallel-item::before {content: \"\";position: absolute;border-left: 1px solid gray;box-sizing: border-box;top: 0;bottom: 0;left: 50%;z-index: -1;}#sk-container-id-2 div.sk-parallel-item {display: flex;flex-direction: column;z-index: 1;position: relative;background-color: white;}#sk-container-id-2 div.sk-parallel-item:first-child::after {align-self: flex-end;width: 50%;}#sk-container-id-2 div.sk-parallel-item:last-child::after {align-self: flex-start;width: 50%;}#sk-container-id-2 div.sk-parallel-item:only-child::after {width: 0;}#sk-container-id-2 div.sk-dashed-wrapped {border: 1px dashed gray;margin: 0 0.4em 0.5em 0.4em;box-sizing: border-box;padding-bottom: 0.4em;background-color: white;}#sk-container-id-2 div.sk-label label {font-family: monospace;font-weight: bold;display: inline-block;line-height: 1.2em;}#sk-container-id-2 div.sk-label-container {text-align: center;}#sk-container-id-2 div.sk-container {/* jupyter's `normalize.less` sets `[hidden] { display: none; }` but bootstrap.min.css set `[hidden] { display: none !important; }` so we also need the `!important` here to be able to override the default hidden behavior on the sphinx rendered scikit-learn.org. See: https://github.com/scikit-learn/scikit-learn/issues/21755 */display: inline-block !important;position: relative;}#sk-container-id-2 div.sk-text-repr-fallback {display: none;}</style><div id=\"sk-container-id-2\" class=\"sk-top-container\"><div class=\"sk-text-repr-fallback\"><pre>LogisticRegression()</pre><b>In a Jupyter environment, please rerun this cell to show the HTML representation or trust the notebook. <br />On GitHub, the HTML representation is unable to render, please try loading this page with nbviewer.org.</b></div><div class=\"sk-container\" hidden><div class=\"sk-item\"><div class=\"sk-estimator sk-toggleable\"><input class=\"sk-toggleable__control sk-hidden--visually\" id=\"sk-estimator-id-2\" type=\"checkbox\" checked><label for=\"sk-estimator-id-2\" class=\"sk-toggleable__label sk-toggleable__label-arrow\">LogisticRegression</label><div class=\"sk-toggleable__content\"><pre>LogisticRegression()</pre></div></div></div></div></div>"
      ],
      "text/plain": [
       "LogisticRegression()"
      ]
     },
     "execution_count": 113,
     "metadata": {},
     "output_type": "execute_result"
    }
   ],
   "source": [
    "from sklearn.linear_model import LogisticRegression\n",
    "model = LogisticRegression()\n",
    "model.fit(X_train,y_train)"
   ]
  },
  {
   "cell_type": "markdown",
   "metadata": {},
   "source": [
    "#### 3.1.5 Test and evaluate metrics"
   ]
  },
  {
   "cell_type": "code",
   "execution_count": 114,
   "metadata": {},
   "outputs": [],
   "source": [
    "y_pred = model.predict(X_test)"
   ]
  },
  {
   "cell_type": "code",
   "execution_count": 115,
   "metadata": {},
   "outputs": [
    {
     "name": "stdout",
     "output_type": "stream",
     "text": [
      "                                                               precision    recall  f1-score   support\n",
      "\n",
      "                            Arsinoite nome, province of Egypt       0.84      0.98      0.90       555\n",
      "                        Herkaleopolite nome province of Egypt       0.91      0.53      0.67        19\n",
      "                                                 Kerkeosiris        0.82      0.66      0.73        47\n",
      "                                                        Other       0.57      0.58      0.58       105\n",
      "Oxyrhynchos, Oxyrhinchite nome Middle Egypt province of Egypt       0.93      0.34      0.50        79\n",
      "                                                    Tebtunis        1.00      0.58      0.73        19\n",
      "                                     Thebes province of Egypt       0.99      0.94      0.96       126\n",
      "                                                  Wadi Sarga        1.00      1.00      1.00        47\n",
      "                                                     berenike       0.97      0.71      0.82        45\n",
      "\n",
      "                                                     accuracy                           0.84      1042\n",
      "                                                    macro avg       0.89      0.70      0.77      1042\n",
      "                                                 weighted avg       0.85      0.84      0.83      1042\n",
      "\n"
     ]
    }
   ],
   "source": [
    "from sklearn.metrics import classification_report\n",
    "print(classification_report(y_test, y_pred))"
   ]
  },
  {
   "cell_type": "markdown",
   "metadata": {},
   "source": [
    "ADD EXPLANATION OF OUTPUT METRICS HERE"
   ]
  },
  {
   "cell_type": "markdown",
   "metadata": {},
   "source": [
    "#### 3.3.6 Deploy model with Gradio                                  "
   ]
  },
  {
   "cell_type": "code",
   "execution_count": 1,
   "metadata": {},
   "outputs": [
    {
     "name": "stdout",
     "output_type": "stream",
     "text": [
      "Running on local URL:  http://127.0.0.1:7862\n",
      "Running on public URL: https://4a2f121e-73c4-461d.gradio.live\n",
      "\n",
      "This share link expires in 72 hours. For free permanent hosting and GPU upgrades (NEW!), check out Spaces: https://huggingface.co/spaces\n"
     ]
    },
    {
     "data": {
      "text/html": [
       "<div><iframe src=\"https://4a2f121e-73c4-461d.gradio.live\" width=\"100%\" height=\"500\" allow=\"autoplay; camera; microphone; clipboard-read; clipboard-write;\" frameborder=\"0\" allowfullscreen></iframe></div>"
      ],
      "text/plain": [
       "<IPython.core.display.HTML object>"
      ]
     },
     "metadata": {},
     "output_type": "display_data"
    },
    {
     "data": {
      "text/plain": []
     },
     "execution_count": 1,
     "metadata": {},
     "output_type": "execute_result"
    },
    {
     "name": "stderr",
     "output_type": "stream",
     "text": [
      "Traceback (most recent call last):\n",
      "  File \"/home/andrehome/projects/encode_nlp_workshop_2023/venv/lib/python3.10/site-packages/gradio/routes.py\", line 321, in run_predict\n",
      "    output = await app.blocks.process_api(\n",
      "  File \"/home/andrehome/projects/encode_nlp_workshop_2023/venv/lib/python3.10/site-packages/gradio/blocks.py\", line 1015, in process_api\n",
      "    result = await self.call_function(fn_index, inputs, iterator, request)\n",
      "  File \"/home/andrehome/projects/encode_nlp_workshop_2023/venv/lib/python3.10/site-packages/gradio/blocks.py\", line 856, in call_function\n",
      "    prediction = await anyio.to_thread.run_sync(\n",
      "  File \"/home/andrehome/projects/encode_nlp_workshop_2023/venv/lib/python3.10/site-packages/anyio/to_thread.py\", line 31, in run_sync\n",
      "    return await get_asynclib().run_sync_in_worker_thread(\n",
      "  File \"/home/andrehome/projects/encode_nlp_workshop_2023/venv/lib/python3.10/site-packages/anyio/_backends/_asyncio.py\", line 937, in run_sync_in_worker_thread\n",
      "    return await future\n",
      "  File \"/home/andrehome/projects/encode_nlp_workshop_2023/venv/lib/python3.10/site-packages/anyio/_backends/_asyncio.py\", line 867, in run\n",
      "    result = context.run(func, *args)\n",
      "  File \"/tmp/ipykernel_206349/1745604927.py\", line 4, in find_my_provenance\n",
      "    text_tfidf = tfidf_vect.transform([text])\n",
      "NameError: name 'tfidf_vect' is not defined\n"
     ]
    }
   ],
   "source": [
    "import gradio as gr\n",
    "\n",
    "def find_my_provenance(text):\n",
    "    text_tfidf = tfidf_vect.transform([text])\n",
    "    return str(model.predict(text_tfidf)[0])\n",
    "demo = gr.Interface(fn = find_my_provenance, inputs=gr.Textbox(lines=3,placeholder=\"Papyrus translation here\"), outputs=\"text\")\n",
    "demo.launch(share=True)"
   ]
  },
  {
   "cell_type": "markdown",
   "metadata": {},
   "source": [
    "### 3.4 Hands-on exercise: Build and train your own classification model\n",
    "Here in this task you can train your own machine learning model and interpret the output results. \n",
    "Using function X you can deploy this machine learning (temporarily with Gradio)\n",
    "\n",
    "Here are some example columns to use.\n"
   ]
  },
  {
   "cell_type": "markdown",
   "metadata": {},
   "source": [
    "### 3.5 Wrap-up\n",
    "\n",
    "Thanks for joining me for this workshop!\n",
    "\n",
    "Here are some resources for learning more about machine learning and NLP:\n",
    "- \n",
    "- \n"
   ]
  },
  {
   "cell_type": "markdown",
   "metadata": {},
   "source": []
  }
 ],
 "metadata": {
  "kernelspec": {
   "display_name": "Python 3.10.6 ('venv': venv)",
   "language": "python",
   "name": "python3"
  },
  "language_info": {
   "codemirror_mode": {
    "name": "ipython",
    "version": 3
   },
   "file_extension": ".py",
   "mimetype": "text/x-python",
   "name": "python",
   "nbconvert_exporter": "python",
   "pygments_lexer": "ipython3",
   "version": "3.10.6"
  },
  "orig_nbformat": 4,
  "vscode": {
   "interpreter": {
    "hash": "81b04b4b00d0fce4f4c274cf252073ab071336a98a82b44be1ec0d88a271d631"
   }
  }
 },
 "nbformat": 4,
 "nbformat_minor": 2
}
