{
 "cells": [
  {
   "cell_type": "markdown",
   "metadata": {},
   "source": [
    "# A practical introduction to machine learning and natural language processing on papyrus data \n",
    "## By MSc. André Walsøe and dr. Andrea Gasparino University of Oslo\n",
    "\n",
    "\n",
    "![alt text](https://www.kdnuggets.com/wp-content/uploads/text-data-task-framework.png \"Logo Title Text 1\")\n",
    "source: https://www.kdnuggets.com/2017/12/general-approach-preprocessing-text-data.html\n"
   ]
  },
  {
   "cell_type": "markdown",
   "metadata": {},
   "source": [
    "# Session 1 Preparation and exploration of Dataset\n",
    "\n",
    "1. Download dataset from github repository\n",
    "2. Explore dataset\n",
    "3. Application of filtering techniques\n",
    "4. Ways of cleaning the data\n",
    "5. Show how to use various python libraries such as pandas for working with the data\n",
    "6. Hands on excercise"
   ]
  },
  {
   "cell_type": "markdown",
   "metadata": {},
   "source": [
    "### 1.1 Download dataset\n",
    "The dataset was created by downloading and filtering data from https://github.com/papyri/idp.data/tree/master/APIS"
   ]
  },
  {
   "cell_type": "code",
   "execution_count": 10,
   "metadata": {},
   "outputs": [
    {
     "name": "stdout",
     "output_type": "stream",
     "text": [
      "  % Total    % Received % Xferd  Average Speed   Time    Time     Time  Current\n",
      "                                 Dload  Upload   Total   Spent    Left  Speed\n",
      "100 8467k  100 8467k    0     0  16.4M      0 --:--:-- --:--:-- --:--:-- 16.4M\n"
     ]
    }
   ],
   "source": [
    "!curl -L -o data.tsv https://raw.githubusercontent.com/auwalsoe/encode_nlp_workshop_2023/main/data/papyrus_data.tsv\n",
    "#!pip install gradio"
   ]
  },
  {
   "cell_type": "markdown",
   "metadata": {},
   "source": [
    "### 1.2 Data exploration\n",
    "To load the dataset into our google colab we use a library called pandas (https://pandas.pydata.org) which is a open source data analysis and data manipulation tool that is widely used for every tasks involving data."
   ]
  },
  {
   "cell_type": "code",
   "execution_count": 11,
   "metadata": {},
   "outputs": [
    {
     "data": {
      "text/html": [
       "<div>\n",
       "<style scoped>\n",
       "    .dataframe tbody tr th:only-of-type {\n",
       "        vertical-align: middle;\n",
       "    }\n",
       "\n",
       "    .dataframe tbody tr th {\n",
       "        vertical-align: top;\n",
       "    }\n",
       "\n",
       "    .dataframe thead th {\n",
       "        text-align: right;\n",
       "    }\n",
       "</style>\n",
       "<table border=\"1\" class=\"dataframe\">\n",
       "  <thead>\n",
       "    <tr style=\"text-align: right;\">\n",
       "      <th></th>\n",
       "      <th>Unnamed: 0</th>\n",
       "      <th>translation</th>\n",
       "      <th>category</th>\n",
       "      <th>author</th>\n",
       "      <th>summary</th>\n",
       "      <th>keywords</th>\n",
       "      <th>originDate</th>\n",
       "      <th>provenance</th>\n",
       "      <th>num_words_in_translation</th>\n",
       "    </tr>\n",
       "  </thead>\n",
       "  <tbody>\n",
       "    <tr>\n",
       "      <th>0</th>\n",
       "      <td>0</td>\n",
       "      <td>kollesis obscures much of the text. 6 lines, o...</td>\n",
       "      <td>documentary text</td>\n",
       "      <td>unknown</td>\n",
       "      <td>unknown</td>\n",
       "      <td>papyri</td>\n",
       "      <td>Between 300 and 130 B.C.</td>\n",
       "      <td>unknown</td>\n",
       "      <td>24</td>\n",
       "    </tr>\n",
       "    <tr>\n",
       "      <th>1</th>\n",
       "      <td>3</td>\n",
       "      <td>21 lines, on recto along the fibers; 2 lines (...</td>\n",
       "      <td>letter : conclusion : to maron</td>\n",
       "      <td>unknown</td>\n",
       "      <td>conclusion of a letter to maron about various ...</td>\n",
       "      <td>papyri</td>\n",
       "      <td>Late 2nd or 3rd century A.D.</td>\n",
       "      <td>unknown</td>\n",
       "      <td>24</td>\n",
       "    </tr>\n",
       "    <tr>\n",
       "      <th>2</th>\n",
       "      <td>1</td>\n",
       "      <td>3+ cols. (54+ lines) on recto along the fibers...</td>\n",
       "      <td>account : fragment</td>\n",
       "      <td>unknown</td>\n",
       "      <td>unknown</td>\n",
       "      <td>papyri</td>\n",
       "      <td>Late 2nd century B.C.</td>\n",
       "      <td>unknown</td>\n",
       "      <td>12</td>\n",
       "    </tr>\n",
       "    <tr>\n",
       "      <th>3</th>\n",
       "      <td>3</td>\n",
       "      <td>10 lines, on verso across the fibers. on recto...</td>\n",
       "      <td>tax receipt</td>\n",
       "      <td>diodoros</td>\n",
       "      <td>diodoros and partners, farmers of the crown ta...</td>\n",
       "      <td>papyri</td>\n",
       "      <td>181/182 or 213/214 A.D.</td>\n",
       "      <td>unknown</td>\n",
       "      <td>67</td>\n",
       "    </tr>\n",
       "    <tr>\n",
       "      <th>4</th>\n",
       "      <td>3</td>\n",
       "      <td>49 lines, on verso across the fibers. recto em...</td>\n",
       "      <td>petition from harmiysis and the crown tenants ...</td>\n",
       "      <td>harmiysis</td>\n",
       "      <td>harmiysis and the crown tenants complain to kr...</td>\n",
       "      <td>papyri</td>\n",
       "      <td>Between 105 and 90 B.C.</td>\n",
       "      <td>unknown</td>\n",
       "      <td>240</td>\n",
       "    </tr>\n",
       "  </tbody>\n",
       "</table>\n",
       "</div>"
      ],
      "text/plain": [
       "   Unnamed: 0                                        translation  \\\n",
       "0           0  kollesis obscures much of the text. 6 lines, o...   \n",
       "1           3  21 lines, on recto along the fibers; 2 lines (...   \n",
       "2           1  3+ cols. (54+ lines) on recto along the fibers...   \n",
       "3           3  10 lines, on verso across the fibers. on recto...   \n",
       "4           3  49 lines, on verso across the fibers. recto em...   \n",
       "\n",
       "                                            category      author  \\\n",
       "0                                  documentary text      unknown   \n",
       "1                    letter : conclusion : to maron      unknown   \n",
       "2                                account : fragment      unknown   \n",
       "3                                       tax receipt    diodoros    \n",
       "4  petition from harmiysis and the crown tenants ...  harmiysis    \n",
       "\n",
       "                                             summary keywords  \\\n",
       "0                                            unknown   papyri   \n",
       "1  conclusion of a letter to maron about various ...   papyri   \n",
       "2                                            unknown   papyri   \n",
       "3  diodoros and partners, farmers of the crown ta...   papyri   \n",
       "4  harmiysis and the crown tenants complain to kr...   papyri   \n",
       "\n",
       "                      originDate provenance  num_words_in_translation  \n",
       "0      Between 300 and 130 B.C.     unknown                        24  \n",
       "1  Late 2nd or 3rd century A.D.     unknown                        24  \n",
       "2         Late 2nd century B.C.     unknown                        12  \n",
       "3       181/182 or 213/214 A.D.     unknown                        67  \n",
       "4       Between 105 and 90 B.C.     unknown                       240  "
      ]
     },
     "execution_count": 11,
     "metadata": {},
     "output_type": "execute_result"
    }
   ],
   "source": [
    "#Importing the pandas Library\n",
    "import pandas as pd\n",
    "\n",
    "# Loading the downloaded data into a pandas dataframe\n",
    "#data = pd.read_csv('/content/data.tsv', delimiter = '\\t')\n",
    "data = pd.read_csv('data.tsv', delimiter = '\\t')\n",
    "data.head()"
   ]
  },
  {
   "cell_type": "code",
   "execution_count": 12,
   "metadata": {},
   "outputs": [
    {
     "name": "stdout",
     "output_type": "stream",
     "text": [
      "Unnamed: 0\n",
      "translation\n",
      "category\n",
      "author\n",
      "summary\n",
      "keywords\n",
      "originDate\n",
      "provenance\n",
      "num_words_in_translation\n"
     ]
    }
   ],
   "source": [
    "## Printing column names\n",
    "for col in data.columns:\n",
    "    print(col)"
   ]
  },
  {
   "cell_type": "code",
   "execution_count": 20,
   "metadata": {},
   "outputs": [
    {
     "data": {
      "image/png": "[encoded data removed]",
      "text/plain": [
       "<Figure size 640x480 with 1 Axes>"
      ]
     },
     "metadata": {},
     "output_type": "display_data"
    }
   ],
   "source": [
    "## Get frequencies of columns\n",
    "def plot_column_distribution(dataset, column_name, top_n):\n",
    "    dataset[column_name].value_counts()[:top_n].plot(kind=\"bar\")\n",
    "#data.category.value_counts()[:10].plot(kind='bar')\n",
    "\n",
    "plot_column_distribution(data, \"category\", 20)"
   ]
  },
  {
   "cell_type": "markdown",
   "metadata": {},
   "source": [
    "### 1.3 Application of filtering techniques"
   ]
  },
  {
   "cell_type": "code",
   "execution_count": 4,
   "metadata": {},
   "outputs": [],
   "source": [
    "# Removing unknowns from the dataset\n",
    "data = data[data.provenance != 'unknown']\n",
    "data =data[data.groupby('provenance')['provenance'].transform('count').ge(100)]\n",
    "translations = data['translation'].values\n",
    "provenance = data['provenance'].values\n",
    "\n"
   ]
  },
  {
   "cell_type": "code",
   "execution_count": 5,
   "metadata": {},
   "outputs": [
    {
     "data": {
      "text/plain": [
       "array(['11 lines, on recto along the fibers. verso: account ',\n",
       "       '19 cols. (315 lines) on recto along the fibers on verso: register of rents and taxes (p.tebt.1106) ',\n",
       "       '5 lines, on recto along the fibers verso empty � (month) 12-16 in (canal) on behalf of tebtunis, herakl() son of pak() son of kronno(), his mother being heraklous. ',\n",
       "       '16 lines, on recto along the fibers. on verso: some faint traces of ink. ',\n",
       "       '9 cols. (127 lines) on recto along the fibers. on verso: decrees of king ptolemy viii euergetes ii : copy ',\n",
       "       'large portions of papyrus still gummed on top of linen 11+ cols. (160+ lines) on recto along the fibers. on verso of one of smaller fragments remains of a text; remainder of verso empty or covered by linen. ',\n",
       "       'badly preserved, text being fragmentary and mutilated. 9+ cols. (73+ lines) on verso across the fibers. recto: p.tebt.832 (account of crops and rentals) ',\n",
       "       'out to conservation 13 dec 04 pjr 3 cols. (78 lines) on recto along the fibers. on verso, field-by-field register of land at kerkeosiris. ',\n",
       "       '10 lines, on recto along the fibers. on recto col. ii, anthology: fragments; on verso, list of names and numbers. ',\n",
       "       'remains of plaster of left a white tinge on the papyrus. 38 lines, on recto along the fibers. on verso, along the fibers, address and docket agathon to patron, greeting. i have written below for your information a copy of the letter from menodoros. goodbye. the 4th year, pharmouthi 8. menodoros to agathon, greeting. we have written below for you a copy of the letter which we have written to the collectors in the several toparchies in order that you may be informed and send instructions to your local agents to release out of the produce the amounts measured out to the sitologoi for the dues entered on their books, and to retain the rest of the grain, as we have written to you in previous letters. to theophilos. since the time for receipts from the royal holdings has arrived and the sitologoi are met together with you, i think it well to write to you in order that, as regards the cavalry holdings, having left enough grain for the money dues owing on account of the past and for the money revenue until we refer to phanias about this, you may measure to the sitologoi from the surplus produce (?) from the half-holdings pertaining to the state the grain dues entered on their books, and similarly the taxes, both the medical tax and the crown-tax for the ten-day period, and also from the whole holding the guard-tax upon the holdings. if anything remains from these half-holdings, let it be your care that both it and the half-holding pertaining to the cavalryman be kept until the reckoning and until we write to you what should be done. the purchased grain of which they have received the value beforehand �, as we have instructed you previously. if any of the cavalrymen have given the epistatai affidavits about the produce, hold back the proper amount for the crown-tax for the 4th year to make up the deficiency, until we have referred � to phanias. goodbye. the same letter was sent to harpalos, antiphanes and argaios. (addressed on the verso) to patron. (endorsed on the verso) 4th year, pharmouthi 8. concerning the half-holdings, instructions for measuring dues, � '],\n",
       "      dtype=object)"
      ]
     },
     "execution_count": 5,
     "metadata": {},
     "output_type": "execute_result"
    }
   ],
   "source": [
    "translations[:10]"
   ]
  },
  {
   "cell_type": "markdown",
   "metadata": {},
   "source": [
    "### 1.4 Cleaning the data"
   ]
  },
  {
   "cell_type": "code",
   "execution_count": null,
   "metadata": {},
   "outputs": [],
   "source": []
  },
  {
   "cell_type": "markdown",
   "metadata": {},
   "source": [
    "### 1.5 Show how to use various libraries suchs as pandas for working with the text data"
   ]
  },
  {
   "cell_type": "markdown",
   "metadata": {},
   "source": [
    "### 1.6 Hands-on excercise: Cleaning and filtering of the dataset"
   ]
  },
  {
   "cell_type": "markdown",
   "metadata": {},
   "source": []
  },
  {
   "cell_type": "markdown",
   "metadata": {},
   "source": [
    "# Session 2: Introduction to nlp techniques\n",
    "1. Tokenization\n",
    "2. Stopword removal\n",
    "3. Vectorization\n",
    "4. Stemming\n",
    "5. (Optional) Lemmatization\n",
    "6. Show how these techniques can be applied on papyrus data using NLTK\n",
    "7. Hands-on exercise: Apply NLP techniques to papyrus dataset"
   ]
  },
  {
   "cell_type": "markdown",
   "metadata": {},
   "source": [
    "### 2.1 Tokenization"
   ]
  },
  {
   "cell_type": "code",
   "execution_count": null,
   "metadata": {},
   "outputs": [],
   "source": []
  },
  {
   "cell_type": "markdown",
   "metadata": {},
   "source": [
    "### 2.2 Stopword removal"
   ]
  },
  {
   "cell_type": "markdown",
   "metadata": {},
   "source": [
    "### 2.3 Vectorization"
   ]
  },
  {
   "cell_type": "markdown",
   "metadata": {},
   "source": [
    "### 2.4 Stemming"
   ]
  },
  {
   "cell_type": "markdown",
   "metadata": {},
   "source": [
    "### 2.5 Lemmatization (optional)"
   ]
  },
  {
   "cell_type": "markdown",
   "metadata": {},
   "source": [
    "### 2.6 Application of the abovementioned techniques using NLTK"
   ]
  },
  {
   "cell_type": "markdown",
   "metadata": {},
   "source": [
    "### 2.7 Hands-on exercise: Apply NLP techniques to papyrus dataset"
   ]
  },
  {
   "cell_type": "markdown",
   "metadata": {},
   "source": [
    "## Session 3: Introduction to machine learning techniques and building a text classification model\n",
    "1. Introduction to machine learning\n",
    "2. Supervised learning and unsupervised learning\n",
    "3. Building a text classification model\n",
    "    1. Choose what to predict and which variables to use\n",
    "    2. Split data into training and test\n",
    "    3. Transform/vectorize data\n",
    "    4. Train a logistic regression model\n",
    "    5. Test and evaluate metrics\n",
    "    6. Deploy model with Gradio\n",
    "4. Hands-on exercise: Build and train your own classification model \n",
    "5. Wrap-up"
   ]
  },
  {
   "cell_type": "markdown",
   "metadata": {},
   "source": [
    "### 3.1 Introduction to machine learning"
   ]
  },
  {
   "cell_type": "markdown",
   "metadata": {},
   "source": [
    "### 3.2 Supervised learning and unsupervised learning"
   ]
  },
  {
   "cell_type": "markdown",
   "metadata": {},
   "source": [
    "### 3.3 Building a text classification model"
   ]
  },
  {
   "cell_type": "markdown",
   "metadata": {},
   "source": [
    "#### 3.3.1 Choose what to predict and which variables to use"
   ]
  },
  {
   "cell_type": "markdown",
   "metadata": {},
   "source": [
    "#### 3.3.2 Split data into training and test"
   ]
  },
  {
   "cell_type": "code",
   "execution_count": null,
   "metadata": {},
   "outputs": [],
   "source": [
    "from sklearn.model_selection import train_test_split\n",
    "X_train, X_test, y_train, y_test = train_test_split(translations, provenance, test_size=0.33, random_state=42)"
   ]
  },
  {
   "cell_type": "markdown",
   "metadata": {},
   "source": [
    "#### 3.3.3 Transform/vectorize data"
   ]
  },
  {
   "cell_type": "code",
   "execution_count": null,
   "metadata": {},
   "outputs": [],
   "source": [
    "from sklearn.feature_extraction.text import TfidfVectorizer\n",
    "tfidf_vect = TfidfVectorizer()\n",
    "\n",
    "X_train= tfidf_vect.fit_transform(X_train)\n",
    "X_test = tfidf_vect.transform(X_test)"
   ]
  },
  {
   "cell_type": "markdown",
   "metadata": {},
   "source": [
    "#### 3.3.4 Train a logistic regression model"
   ]
  },
  {
   "cell_type": "code",
   "execution_count": null,
   "metadata": {},
   "outputs": [],
   "source": [
    "from sklearn.linear_model import LogisticRegression\n",
    "model = LogisticRegression()\n",
    "model.fit(X_train,y_train)"
   ]
  },
  {
   "cell_type": "markdown",
   "metadata": {},
   "source": [
    "#### 3.3.5 Test and evaluate metrics"
   ]
  },
  {
   "cell_type": "code",
   "execution_count": null,
   "metadata": {},
   "outputs": [],
   "source": [
    "y_pred = model.predict(X_test)"
   ]
  },
  {
   "cell_type": "code",
   "execution_count": null,
   "metadata": {},
   "outputs": [],
   "source": [
    "from sklearn.metrics import classification_report\n",
    "print(classification_report(y_test, y_pred))"
   ]
  },
  {
   "cell_type": "markdown",
   "metadata": {},
   "source": [
    "#### 3.3.6 Deploy model with Gradio                                  "
   ]
  },
  {
   "cell_type": "code",
   "execution_count": null,
   "metadata": {},
   "outputs": [],
   "source": [
    "import gradio as gr\n",
    "\n",
    "def find_my_provenance(text):\n",
    "    text_tfidf = tfidf_vect.transform([text])\n",
    "    return str(model.predict(text_tfidf)[0])\n",
    "demo = gr.Interface(fn = find_my_provenance, inputs=gr.Textbox(lines=3,placeholder=\"Papyrus translation here\"), outputs=\"text\")\n",
    "demo.launch(share=True)"
   ]
  },
  {
   "cell_type": "markdown",
   "metadata": {},
   "source": [
    "### 3.4 Hands-on exercise: Build and train your own classification model"
   ]
  },
  {
   "cell_type": "markdown",
   "metadata": {},
   "source": [
    "### 3.5 Wrap-up"
   ]
  }
 ],
 "metadata": {
  "kernelspec": {
   "display_name": "Python 3.10.6 ('venv': venv)",
   "language": "python",
   "name": "python3"
  },
  "language_info": {
   "codemirror_mode": {
    "name": "ipython",
    "version": 3
   },
   "file_extension": ".py",
   "mimetype": "text/x-python",
   "name": "python",
   "nbconvert_exporter": "python",
   "pygments_lexer": "ipython3",
   "version": "3.10.6"
  },
  "orig_nbformat": 4,
  "vscode": {
   "interpreter": {
    "hash": "81b04b4b00d0fce4f4c274cf252073ab071336a98a82b44be1ec0d88a271d631"
   }
  }
 },
 "nbformat": 4,
 "nbformat_minor": 2
}
