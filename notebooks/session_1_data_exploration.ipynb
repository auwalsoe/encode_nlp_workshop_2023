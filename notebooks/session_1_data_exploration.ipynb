{
 "cells": [
  {
   "cell_type": "markdown",
   "metadata": {},
   "source": [
    "# Download dataset\n"
   ]
  },
  {
   "cell_type": "code",
   "execution_count": 16,
   "metadata": {},
   "outputs": [
    {
     "name": "stdout",
     "output_type": "stream",
     "text": [
      "  % Total    % Received % Xferd  Average Speed   Time    Time     Time  Current\n",
      "                                 Dload  Upload   Total   Spent    Left  Speed\n",
      "100 8467k  100 8467k    0     0  9106k      0 --:--:-- --:--:-- --:--:-- 9105k\n"
     ]
    }
   ],
   "source": [
    "!curl -L -o data.tsv https://raw.githubusercontent.com/auwalsoe/encode_nlp_workshop_2023/main/data/papyrus_data.tsv"
   ]
  },
  {
   "cell_type": "code",
   "execution_count": 49,
   "metadata": {},
   "outputs": [],
   "source": [
    "import pandas as pd\n",
    "\n",
    "data = pd.read_csv('/content/data.tsv', delimiter = '\\t')\n",
    "#data = pd.read_csv('data.tsv', delimiter = '\\t')"
   ]
  },
  {
   "cell_type": "code",
   "execution_count": 50,
   "metadata": {},
   "outputs": [
    {
     "data": {
      "text/html": [
       "<div>\n",
       "<style scoped>\n",
       "    .dataframe tbody tr th:only-of-type {\n",
       "        vertical-align: middle;\n",
       "    }\n",
       "\n",
       "    .dataframe tbody tr th {\n",
       "        vertical-align: top;\n",
       "    }\n",
       "\n",
       "    .dataframe thead th {\n",
       "        text-align: right;\n",
       "    }\n",
       "</style>\n",
       "<table border=\"1\" class=\"dataframe\">\n",
       "  <thead>\n",
       "    <tr style=\"text-align: right;\">\n",
       "      <th></th>\n",
       "      <th>Unnamed: 0</th>\n",
       "      <th>translation</th>\n",
       "      <th>category</th>\n",
       "      <th>author</th>\n",
       "      <th>summary</th>\n",
       "      <th>keywords</th>\n",
       "      <th>originDate</th>\n",
       "      <th>provenance</th>\n",
       "      <th>num_words_in_translation</th>\n",
       "    </tr>\n",
       "  </thead>\n",
       "  <tbody>\n",
       "    <tr>\n",
       "      <th>0</th>\n",
       "      <td>0</td>\n",
       "      <td>kollesis obscures much of the text. 6 lines, o...</td>\n",
       "      <td>documentary text</td>\n",
       "      <td>unknown</td>\n",
       "      <td>unknown</td>\n",
       "      <td>papyri</td>\n",
       "      <td>Between 300 and 130 B.C.</td>\n",
       "      <td>unknown</td>\n",
       "      <td>24</td>\n",
       "    </tr>\n",
       "    <tr>\n",
       "      <th>1</th>\n",
       "      <td>3</td>\n",
       "      <td>21 lines, on recto along the fibers; 2 lines (...</td>\n",
       "      <td>letter : conclusion : to maron</td>\n",
       "      <td>unknown</td>\n",
       "      <td>conclusion of a letter to maron about various ...</td>\n",
       "      <td>papyri</td>\n",
       "      <td>Late 2nd or 3rd century A.D.</td>\n",
       "      <td>unknown</td>\n",
       "      <td>24</td>\n",
       "    </tr>\n",
       "    <tr>\n",
       "      <th>2</th>\n",
       "      <td>1</td>\n",
       "      <td>3+ cols. (54+ lines) on recto along the fibers...</td>\n",
       "      <td>account : fragment</td>\n",
       "      <td>unknown</td>\n",
       "      <td>unknown</td>\n",
       "      <td>papyri</td>\n",
       "      <td>Late 2nd century B.C.</td>\n",
       "      <td>unknown</td>\n",
       "      <td>12</td>\n",
       "    </tr>\n",
       "    <tr>\n",
       "      <th>3</th>\n",
       "      <td>3</td>\n",
       "      <td>10 lines, on verso across the fibers. on recto...</td>\n",
       "      <td>tax receipt</td>\n",
       "      <td>diodoros</td>\n",
       "      <td>diodoros and partners, farmers of the crown ta...</td>\n",
       "      <td>papyri</td>\n",
       "      <td>181/182 or 213/214 A.D.</td>\n",
       "      <td>unknown</td>\n",
       "      <td>67</td>\n",
       "    </tr>\n",
       "    <tr>\n",
       "      <th>4</th>\n",
       "      <td>3</td>\n",
       "      <td>49 lines, on verso across the fibers. recto em...</td>\n",
       "      <td>petition from harmiysis and the crown tenants ...</td>\n",
       "      <td>harmiysis</td>\n",
       "      <td>harmiysis and the crown tenants complain to kr...</td>\n",
       "      <td>papyri</td>\n",
       "      <td>Between 105 and 90 B.C.</td>\n",
       "      <td>unknown</td>\n",
       "      <td>240</td>\n",
       "    </tr>\n",
       "  </tbody>\n",
       "</table>\n",
       "</div>"
      ],
      "text/plain": [
       "   Unnamed: 0                                        translation  \\\n",
       "0           0  kollesis obscures much of the text. 6 lines, o...   \n",
       "1           3  21 lines, on recto along the fibers; 2 lines (...   \n",
       "2           1  3+ cols. (54+ lines) on recto along the fibers...   \n",
       "3           3  10 lines, on verso across the fibers. on recto...   \n",
       "4           3  49 lines, on verso across the fibers. recto em...   \n",
       "\n",
       "                                            category      author  \\\n",
       "0                                  documentary text      unknown   \n",
       "1                    letter : conclusion : to maron      unknown   \n",
       "2                                account : fragment      unknown   \n",
       "3                                       tax receipt    diodoros    \n",
       "4  petition from harmiysis and the crown tenants ...  harmiysis    \n",
       "\n",
       "                                             summary keywords  \\\n",
       "0                                            unknown   papyri   \n",
       "1  conclusion of a letter to maron about various ...   papyri   \n",
       "2                                            unknown   papyri   \n",
       "3  diodoros and partners, farmers of the crown ta...   papyri   \n",
       "4  harmiysis and the crown tenants complain to kr...   papyri   \n",
       "\n",
       "                      originDate provenance  num_words_in_translation  \n",
       "0      Between 300 and 130 B.C.     unknown                        24  \n",
       "1  Late 2nd or 3rd century A.D.     unknown                        24  \n",
       "2         Late 2nd century B.C.     unknown                        12  \n",
       "3       181/182 or 213/214 A.D.     unknown                        67  \n",
       "4       Between 105 and 90 B.C.     unknown                       240  "
      ]
     },
     "execution_count": 50,
     "metadata": {},
     "output_type": "execute_result"
    }
   ],
   "source": [
    "data.head()"
   ]
  },
  {
   "cell_type": "code",
   "execution_count": 51,
   "metadata": {},
   "outputs": [],
   "source": [
    "data = data[data.provenance != 'unknown']\n",
    "data =data[data.groupby('provenance')['provenance'].transform('count').ge(100)]\n",
    "\n",
    "\n",
    "translations = data['translation'].values\n",
    "provenance = data['provenance'].values\n",
    "\n"
   ]
  },
  {
   "cell_type": "code",
   "execution_count": 52,
   "metadata": {},
   "outputs": [
    {
     "data": {
      "text/plain": [
       "array(['11 lines, on recto along the fibers. verso: account ',\n",
       "       '19 cols. (315 lines) on recto along the fibers on verso: register of rents and taxes (p.tebt.1106) ',\n",
       "       '5 lines, on recto along the fibers verso empty � (month) 12-16 in (canal) on behalf of tebtunis, herakl() son of pak() son of kronno(), his mother being heraklous. ',\n",
       "       '16 lines, on recto along the fibers. on verso: some faint traces of ink. ',\n",
       "       '9 cols. (127 lines) on recto along the fibers. on verso: decrees of king ptolemy viii euergetes ii : copy ',\n",
       "       'large portions of papyrus still gummed on top of linen 11+ cols. (160+ lines) on recto along the fibers. on verso of one of smaller fragments remains of a text; remainder of verso empty or covered by linen. ',\n",
       "       'badly preserved, text being fragmentary and mutilated. 9+ cols. (73+ lines) on verso across the fibers. recto: p.tebt.832 (account of crops and rentals) ',\n",
       "       'out to conservation 13 dec 04 pjr 3 cols. (78 lines) on recto along the fibers. on verso, field-by-field register of land at kerkeosiris. ',\n",
       "       '10 lines, on recto along the fibers. on recto col. ii, anthology: fragments; on verso, list of names and numbers. ',\n",
       "       'remains of plaster of left a white tinge on the papyrus. 38 lines, on recto along the fibers. on verso, along the fibers, address and docket agathon to patron, greeting. i have written below for your information a copy of the letter from menodoros. goodbye. the 4th year, pharmouthi 8. menodoros to agathon, greeting. we have written below for you a copy of the letter which we have written to the collectors in the several toparchies in order that you may be informed and send instructions to your local agents to release out of the produce the amounts measured out to the sitologoi for the dues entered on their books, and to retain the rest of the grain, as we have written to you in previous letters. to theophilos. since the time for receipts from the royal holdings has arrived and the sitologoi are met together with you, i think it well to write to you in order that, as regards the cavalry holdings, having left enough grain for the money dues owing on account of the past and for the money revenue until we refer to phanias about this, you may measure to the sitologoi from the surplus produce (?) from the half-holdings pertaining to the state the grain dues entered on their books, and similarly the taxes, both the medical tax and the crown-tax for the ten-day period, and also from the whole holding the guard-tax upon the holdings. if anything remains from these half-holdings, let it be your care that both it and the half-holding pertaining to the cavalryman be kept until the reckoning and until we write to you what should be done. the purchased grain of which they have received the value beforehand �, as we have instructed you previously. if any of the cavalrymen have given the epistatai affidavits about the produce, hold back the proper amount for the crown-tax for the 4th year to make up the deficiency, until we have referred � to phanias. goodbye. the same letter was sent to harpalos, antiphanes and argaios. (addressed on the verso) to patron. (endorsed on the verso) 4th year, pharmouthi 8. concerning the half-holdings, instructions for measuring dues, � '],\n",
       "      dtype=object)"
      ]
     },
     "execution_count": 52,
     "metadata": {},
     "output_type": "execute_result"
    }
   ],
   "source": [
    "translations[:10]"
   ]
  },
  {
   "cell_type": "code",
   "execution_count": 53,
   "metadata": {},
   "outputs": [],
   "source": [
    "from sklearn.model_selection import train_test_split\n",
    "X_train, X_test, y_train, y_test = train_test_split(translations, provenance, test_size=0.33, random_state=42)"
   ]
  },
  {
   "cell_type": "code",
   "execution_count": 54,
   "metadata": {},
   "outputs": [],
   "source": [
    "from sklearn.feature_extraction.text import TfidfVectorizer\n",
    "tfidf_vect = TfidfVectorizer()\n",
    "\n",
    "X_train= tfidf_vect.fit_transform(X_train)\n",
    "X_test = tfidf_vect.transform(X_test)"
   ]
  },
  {
   "cell_type": "code",
   "execution_count": 55,
   "metadata": {},
   "outputs": [
    {
     "data": {
      "text/html": [
       "<style>#sk-container-id-4 {color: black;background-color: white;}#sk-container-id-4 pre{padding: 0;}#sk-container-id-4 div.sk-toggleable {background-color: white;}#sk-container-id-4 label.sk-toggleable__label {cursor: pointer;display: block;width: 100%;margin-bottom: 0;padding: 0.3em;box-sizing: border-box;text-align: center;}#sk-container-id-4 label.sk-toggleable__label-arrow:before {content: \"▸\";float: left;margin-right: 0.25em;color: #696969;}#sk-container-id-4 label.sk-toggleable__label-arrow:hover:before {color: black;}#sk-container-id-4 div.sk-estimator:hover label.sk-toggleable__label-arrow:before {color: black;}#sk-container-id-4 div.sk-toggleable__content {max-height: 0;max-width: 0;overflow: hidden;text-align: left;background-color: #f0f8ff;}#sk-container-id-4 div.sk-toggleable__content pre {margin: 0.2em;color: black;border-radius: 0.25em;background-color: #f0f8ff;}#sk-container-id-4 input.sk-toggleable__control:checked~div.sk-toggleable__content {max-height: 200px;max-width: 100%;overflow: auto;}#sk-container-id-4 input.sk-toggleable__control:checked~label.sk-toggleable__label-arrow:before {content: \"▾\";}#sk-container-id-4 div.sk-estimator input.sk-toggleable__control:checked~label.sk-toggleable__label {background-color: #d4ebff;}#sk-container-id-4 div.sk-label input.sk-toggleable__control:checked~label.sk-toggleable__label {background-color: #d4ebff;}#sk-container-id-4 input.sk-hidden--visually {border: 0;clip: rect(1px 1px 1px 1px);clip: rect(1px, 1px, 1px, 1px);height: 1px;margin: -1px;overflow: hidden;padding: 0;position: absolute;width: 1px;}#sk-container-id-4 div.sk-estimator {font-family: monospace;background-color: #f0f8ff;border: 1px dotted black;border-radius: 0.25em;box-sizing: border-box;margin-bottom: 0.5em;}#sk-container-id-4 div.sk-estimator:hover {background-color: #d4ebff;}#sk-container-id-4 div.sk-parallel-item::after {content: \"\";width: 100%;border-bottom: 1px solid gray;flex-grow: 1;}#sk-container-id-4 div.sk-label:hover label.sk-toggleable__label {background-color: #d4ebff;}#sk-container-id-4 div.sk-serial::before {content: \"\";position: absolute;border-left: 1px solid gray;box-sizing: border-box;top: 0;bottom: 0;left: 50%;z-index: 0;}#sk-container-id-4 div.sk-serial {display: flex;flex-direction: column;align-items: center;background-color: white;padding-right: 0.2em;padding-left: 0.2em;position: relative;}#sk-container-id-4 div.sk-item {position: relative;z-index: 1;}#sk-container-id-4 div.sk-parallel {display: flex;align-items: stretch;justify-content: center;background-color: white;position: relative;}#sk-container-id-4 div.sk-item::before, #sk-container-id-4 div.sk-parallel-item::before {content: \"\";position: absolute;border-left: 1px solid gray;box-sizing: border-box;top: 0;bottom: 0;left: 50%;z-index: -1;}#sk-container-id-4 div.sk-parallel-item {display: flex;flex-direction: column;z-index: 1;position: relative;background-color: white;}#sk-container-id-4 div.sk-parallel-item:first-child::after {align-self: flex-end;width: 50%;}#sk-container-id-4 div.sk-parallel-item:last-child::after {align-self: flex-start;width: 50%;}#sk-container-id-4 div.sk-parallel-item:only-child::after {width: 0;}#sk-container-id-4 div.sk-dashed-wrapped {border: 1px dashed gray;margin: 0 0.4em 0.5em 0.4em;box-sizing: border-box;padding-bottom: 0.4em;background-color: white;}#sk-container-id-4 div.sk-label label {font-family: monospace;font-weight: bold;display: inline-block;line-height: 1.2em;}#sk-container-id-4 div.sk-label-container {text-align: center;}#sk-container-id-4 div.sk-container {/* jupyter's `normalize.less` sets `[hidden] { display: none; }` but bootstrap.min.css set `[hidden] { display: none !important; }` so we also need the `!important` here to be able to override the default hidden behavior on the sphinx rendered scikit-learn.org. See: https://github.com/scikit-learn/scikit-learn/issues/21755 */display: inline-block !important;position: relative;}#sk-container-id-4 div.sk-text-repr-fallback {display: none;}</style><div id=\"sk-container-id-4\" class=\"sk-top-container\"><div class=\"sk-text-repr-fallback\"><pre>LogisticRegression()</pre><b>In a Jupyter environment, please rerun this cell to show the HTML representation or trust the notebook. <br />On GitHub, the HTML representation is unable to render, please try loading this page with nbviewer.org.</b></div><div class=\"sk-container\" hidden><div class=\"sk-item\"><div class=\"sk-estimator sk-toggleable\"><input class=\"sk-toggleable__control sk-hidden--visually\" id=\"sk-estimator-id-4\" type=\"checkbox\" checked><label for=\"sk-estimator-id-4\" class=\"sk-toggleable__label sk-toggleable__label-arrow\">LogisticRegression</label><div class=\"sk-toggleable__content\"><pre>LogisticRegression()</pre></div></div></div></div></div>"
      ],
      "text/plain": [
       "LogisticRegression()"
      ]
     },
     "execution_count": 55,
     "metadata": {},
     "output_type": "execute_result"
    }
   ],
   "source": [
    "from sklearn.linear_model import LogisticRegression\n",
    "model = LogisticRegression()\n",
    "model.fit(X_train,y_train)"
   ]
  },
  {
   "cell_type": "code",
   "execution_count": 56,
   "metadata": {},
   "outputs": [],
   "source": [
    "y_pred = model.predict(X_test)"
   ]
  },
  {
   "cell_type": "code",
   "execution_count": 58,
   "metadata": {},
   "outputs": [
    {
     "name": "stdout",
     "output_type": "stream",
     "text": [
      "                                                               precision    recall  f1-score   support\n",
      "\n",
      "                            Arsinoite nome, province of Egypt       0.84      1.00      0.91       889\n",
      "                        Herkaleopolite nome province of Egypt       1.00      0.49      0.65        37\n",
      "                                                 Kerkeosiris        0.82      0.77      0.80        61\n",
      "Oxyrhynchos, Oxyrhinchite nome Middle Egypt province of Egypt       0.78      0.32      0.46       145\n",
      "                                                    Tebtunis        1.00      0.24      0.39        46\n",
      "                                     Thebes province of Egypt       1.00      0.94      0.97       214\n",
      "                                                  Wadi Sarga        1.00      1.00      1.00        56\n",
      "                                                     berenike       1.00      0.79      0.88        66\n",
      "\n",
      "                                                     accuracy                           0.87      1514\n",
      "                                                    macro avg       0.93      0.69      0.76      1514\n",
      "                                                 weighted avg       0.88      0.87      0.85      1514\n",
      "\n"
     ]
    }
   ],
   "source": [
    "from sklearn.metrics import classification_report\n",
    "print(classification_report(y_test, y_pred))"
   ]
  },
  {
   "cell_type": "code",
   "execution_count": 60,
   "metadata": {},
   "outputs": [
    {
     "name": "stdout",
     "output_type": "stream",
     "text": [
      "Running on local URL:  http://127.0.0.1:7861\n",
      "Running on public URL: https://26036452-a4fa-4e80.gradio.live\n",
      "\n",
      "This share link expires in 72 hours. For free permanent hosting and GPU upgrades (NEW!), check out Spaces: https://huggingface.co/spaces\n"
     ]
    },
    {
     "data": {
      "text/html": [
       "<div><iframe src=\"https://26036452-a4fa-4e80.gradio.live\" width=\"100%\" height=\"500\" allow=\"autoplay; camera; microphone; clipboard-read; clipboard-write;\" frameborder=\"0\" allowfullscreen></iframe></div>"
      ],
      "text/plain": [
       "<IPython.core.display.HTML object>"
      ]
     },
     "metadata": {},
     "output_type": "display_data"
    },
    {
     "data": {
      "text/plain": []
     },
     "execution_count": 60,
     "metadata": {},
     "output_type": "execute_result"
    }
   ],
   "source": [
    "import gradio as gr\n",
    "\n",
    "def find_my_provenance(text):\n",
    "    text_tfidf = tfidf_vect.transform([text])\n",
    "    return str(model.predict(text_tfidf)[0])\n",
    "demo = gr.Interface(fn = find_my_provenance, inputs=gr.Textbox(lines=3,placeholder=\"Papyrus translation here\"), outputs=\"text\")\n",
    "demo.launch(share=True)"
   ]
  },
  {
   "cell_type": "code",
   "execution_count": null,
   "metadata": {},
   "outputs": [],
   "source": []
  }
 ],
 "metadata": {
  "kernelspec": {
   "display_name": "Python 3.10.6 ('venv': venv)",
   "language": "python",
   "name": "python3"
  },
  "language_info": {
   "codemirror_mode": {
    "name": "ipython",
    "version": 3
   },
   "file_extension": ".py",
   "mimetype": "text/x-python",
   "name": "python",
   "nbconvert_exporter": "python",
   "pygments_lexer": "ipython3",
   "version": "3.10.6"
  },
  "orig_nbformat": 4,
  "vscode": {
   "interpreter": {
    "hash": "81b04b4b00d0fce4f4c274cf252073ab071336a98a82b44be1ec0d88a271d631"
   }
  }
 },
 "nbformat": 4,
 "nbformat_minor": 2
}
